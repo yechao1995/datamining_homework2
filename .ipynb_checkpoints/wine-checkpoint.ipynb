{
 "cells": [
  {
   "cell_type": "markdown",
   "metadata": {},
   "source": [
    "数据集名称：Wine Reviews\n",
    "数据集地址：https://www.kaggle.com/zynicide/wine-reviews\n",
    "数据集描述：这是一个15万条关于葡萄酒的描述，包括产地（国家）、描述、设计、得分、价格、省份、来源、品尝者名字、品尝者推特、标题、品种、葡萄酒厂"
   ]
  },
  {
   "cell_type": "code",
   "execution_count": 1,
   "metadata": {},
   "outputs": [
    {
     "name": "stdout",
     "output_type": "stream",
     "text": [
      "<class 'pandas.core.frame.DataFrame'>\n",
      "RangeIndex: 150930 entries, 0 to 150929\n",
      "Data columns (total 11 columns):\n",
      "Unnamed: 0     150930 non-null int64\n",
      "country        150925 non-null object\n",
      "description    150930 non-null object\n",
      "designation    105195 non-null object\n",
      "points         150930 non-null int64\n",
      "price          137235 non-null float64\n",
      "province       150925 non-null object\n",
      "region_1       125870 non-null object\n",
      "region_2       60953 non-null object\n",
      "variety        150930 non-null object\n",
      "winery         150930 non-null object\n",
      "dtypes: float64(1), int64(2), object(8)\n",
      "memory usage: 8.1+ MB\n"
     ]
    }
   ],
   "source": [
    "# -*- coding: utf-8 -*-\n",
    "import numpy as np\n",
    "import pandas as pd\n",
    "data = pd.read_csv('./winemag-data_first150k.csv')\n",
    "data.info()\n",
    "#数据展示"
   ]
  },
  {
   "cell_type": "code",
   "execution_count": 2,
   "metadata": {},
   "outputs": [
    {
     "data": {
      "text/html": [
       "<div>\n",
       "<style scoped>\n",
       "    .dataframe tbody tr th:only-of-type {\n",
       "        vertical-align: middle;\n",
       "    }\n",
       "\n",
       "    .dataframe tbody tr th {\n",
       "        vertical-align: top;\n",
       "    }\n",
       "\n",
       "    .dataframe thead th {\n",
       "        text-align: right;\n",
       "    }\n",
       "</style>\n",
       "<table border=\"1\" class=\"dataframe\">\n",
       "  <thead>\n",
       "    <tr style=\"text-align: right;\">\n",
       "      <th></th>\n",
       "      <th>Unnamed: 0</th>\n",
       "      <th>country</th>\n",
       "      <th>description</th>\n",
       "      <th>designation</th>\n",
       "      <th>points</th>\n",
       "      <th>price</th>\n",
       "      <th>province</th>\n",
       "      <th>region_1</th>\n",
       "      <th>region_2</th>\n",
       "      <th>variety</th>\n",
       "      <th>winery</th>\n",
       "    </tr>\n",
       "  </thead>\n",
       "  <tbody>\n",
       "    <tr>\n",
       "      <th>0</th>\n",
       "      <td>0</td>\n",
       "      <td>US</td>\n",
       "      <td>This tremendous 100% varietal wine hails from ...</td>\n",
       "      <td>Martha's Vineyard</td>\n",
       "      <td>96</td>\n",
       "      <td>235.0</td>\n",
       "      <td>California</td>\n",
       "      <td>Napa Valley</td>\n",
       "      <td>Napa</td>\n",
       "      <td>Cabernet Sauvignon</td>\n",
       "      <td>Heitz</td>\n",
       "    </tr>\n",
       "    <tr>\n",
       "      <th>1</th>\n",
       "      <td>1</td>\n",
       "      <td>Spain</td>\n",
       "      <td>Ripe aromas of fig, blackberry and cassis are ...</td>\n",
       "      <td>Carodorum Selección Especial Reserva</td>\n",
       "      <td>96</td>\n",
       "      <td>110.0</td>\n",
       "      <td>Northern Spain</td>\n",
       "      <td>Toro</td>\n",
       "      <td>NaN</td>\n",
       "      <td>Tinta de Toro</td>\n",
       "      <td>Bodega Carmen Rodríguez</td>\n",
       "    </tr>\n",
       "    <tr>\n",
       "      <th>2</th>\n",
       "      <td>2</td>\n",
       "      <td>US</td>\n",
       "      <td>Mac Watson honors the memory of a wine once ma...</td>\n",
       "      <td>Special Selected Late Harvest</td>\n",
       "      <td>96</td>\n",
       "      <td>90.0</td>\n",
       "      <td>California</td>\n",
       "      <td>Knights Valley</td>\n",
       "      <td>Sonoma</td>\n",
       "      <td>Sauvignon Blanc</td>\n",
       "      <td>Macauley</td>\n",
       "    </tr>\n",
       "    <tr>\n",
       "      <th>3</th>\n",
       "      <td>3</td>\n",
       "      <td>US</td>\n",
       "      <td>This spent 20 months in 30% new French oak, an...</td>\n",
       "      <td>Reserve</td>\n",
       "      <td>96</td>\n",
       "      <td>65.0</td>\n",
       "      <td>Oregon</td>\n",
       "      <td>Willamette Valley</td>\n",
       "      <td>Willamette Valley</td>\n",
       "      <td>Pinot Noir</td>\n",
       "      <td>Ponzi</td>\n",
       "    </tr>\n",
       "    <tr>\n",
       "      <th>4</th>\n",
       "      <td>4</td>\n",
       "      <td>France</td>\n",
       "      <td>This is the top wine from La Bégude, named aft...</td>\n",
       "      <td>La Brûlade</td>\n",
       "      <td>95</td>\n",
       "      <td>66.0</td>\n",
       "      <td>Provence</td>\n",
       "      <td>Bandol</td>\n",
       "      <td>NaN</td>\n",
       "      <td>Provence red blend</td>\n",
       "      <td>Domaine de la Bégude</td>\n",
       "    </tr>\n",
       "  </tbody>\n",
       "</table>\n",
       "</div>"
      ],
      "text/plain": [
       "   Unnamed: 0 country                                        description  \\\n",
       "0           0      US  This tremendous 100% varietal wine hails from ...   \n",
       "1           1   Spain  Ripe aromas of fig, blackberry and cassis are ...   \n",
       "2           2      US  Mac Watson honors the memory of a wine once ma...   \n",
       "3           3      US  This spent 20 months in 30% new French oak, an...   \n",
       "4           4  France  This is the top wine from La Bégude, named aft...   \n",
       "\n",
       "                            designation  points  price        province  \\\n",
       "0                     Martha's Vineyard      96  235.0      California   \n",
       "1  Carodorum Selección Especial Reserva      96  110.0  Northern Spain   \n",
       "2         Special Selected Late Harvest      96   90.0      California   \n",
       "3                               Reserve      96   65.0          Oregon   \n",
       "4                            La Brûlade      95   66.0        Provence   \n",
       "\n",
       "            region_1           region_2             variety  \\\n",
       "0        Napa Valley               Napa  Cabernet Sauvignon   \n",
       "1               Toro                NaN       Tinta de Toro   \n",
       "2     Knights Valley             Sonoma     Sauvignon Blanc   \n",
       "3  Willamette Valley  Willamette Valley          Pinot Noir   \n",
       "4             Bandol                NaN  Provence red blend   \n",
       "\n",
       "                    winery  \n",
       "0                    Heitz  \n",
       "1  Bodega Carmen Rodríguez  \n",
       "2                 Macauley  \n",
       "3                    Ponzi  \n",
       "4     Domaine de la Bégude  "
      ]
     },
     "execution_count": 2,
     "metadata": {},
     "output_type": "execute_result"
    }
   ],
   "source": [
    "data.head()"
   ]
  },
  {
   "cell_type": "code",
   "execution_count": 3,
   "metadata": {},
   "outputs": [
    {
     "data": {
      "text/plain": [
       "{'US': 62397,\n",
       " 'Italy': 23478,\n",
       " 'France': 21098,\n",
       " 'Spain': 8268,\n",
       " 'Chile': 5816,\n",
       " 'Argentina': 5631,\n",
       " 'Portugal': 5322,\n",
       " 'Australia': 4957,\n",
       " 'New Zealand': 3320,\n",
       " 'Austria': 3057,\n",
       " 'Germany': 2452,\n",
       " 'South Africa': 2258,\n",
       " 'Greece': 884,\n",
       " 'Israel': 630,\n",
       " 'Hungary': 231,\n",
       " 'Canada': 196,\n",
       " 'Romania': 139,\n",
       " 'Slovenia': 94,\n",
       " 'Uruguay': 92,\n",
       " 'Croatia': 89,\n",
       " 'Bulgaria': 77,\n",
       " 'Moldova': 71,\n",
       " 'Mexico': 63,\n",
       " 'Turkey': 52,\n",
       " 'Georgia': 43,\n",
       " 'Lebanon': 37,\n",
       " 'Cyprus': 31,\n",
       " 'Brazil': 25,\n",
       " 'Macedonia': 16,\n",
       " 'Serbia': 14,\n",
       " 'Morocco': 12,\n",
       " 'England': 9,\n",
       " 'Luxembourg': 9,\n",
       " 'India': 8,\n",
       " 'Lithuania': 8,\n",
       " 'Czech Republic': 6,\n",
       " 'Ukraine': 5,\n",
       " 'Switzerland': 4,\n",
       " 'South Korea': 4,\n",
       " 'Bosnia and Herzegovina': 4,\n",
       " 'China': 3,\n",
       " 'Slovakia': 3,\n",
       " 'Egypt': 3,\n",
       " 'Tunisia': 2,\n",
       " 'Japan': 2,\n",
       " 'Albania': 2,\n",
       " 'Montenegro': 2,\n",
       " 'US-France': 1}"
      ]
     },
     "execution_count": 3,
     "metadata": {},
     "output_type": "execute_result"
    }
   ],
   "source": [
    "#对标称属性给出每个值的取值范围\n",
    "data1 = data.country\n",
    "counts = data1.value_counts()\n",
    "dict(counts)"
   ]
  },
  {
   "cell_type": "code",
   "execution_count": 4,
   "metadata": {},
   "outputs": [
    {
     "name": "stdout",
     "output_type": "stream",
     "text": [
      "最小值、最大值、平均数、中位数、四分数、缺失值个数： 80 100 87.8884184721394 88.0 [86.0, 88.0, 90.0] 0\n"
     ]
    }
   ],
   "source": [
    "#数值属性，给出最大、最小、均值、中位数、四分位数及缺失值的个数。\n",
    "#pandas 中 count() 函数为不为空数据的个数，那么将shape与count做差就得到缺失个数，缺失率。\n",
    "data2 = data.points\n",
    "data2min = data2.min()\n",
    "data2max = data2.max()\n",
    "data2mean = data2.mean()\n",
    "data2median = data2.median()\n",
    "#data2=np.array(data1)\n",
    "#data1quarter = np.percentile(data1, 50)\n",
    "data2quantile = [] \n",
    "data2quantile.append(data2.quantile(.25))  #四分位数\n",
    "data2quantile.append(data2.quantile(.50))\n",
    "data2quantile.append(data2.quantile(.75))\n",
    "data2isna = data2.shape[0] - data2.count()\n",
    "print(\"最小值、最大值、平均数、中位数、四分数、缺失值个数：\",data2min, data2max, data2mean, data2median,data2quantile,data2isna)"
   ]
  },
  {
   "cell_type": "code",
   "execution_count": 5,
   "metadata": {},
   "outputs": [
    {
     "name": "stdout",
     "output_type": "stream",
     "text": [
      "最小值、最大值、平均数、中位数、四分数、缺失值个数： 4.0 2300.0 33.13148249353299 24.0 [16.0, 24.0, 40.0] 13695\n"
     ]
    }
   ],
   "source": [
    "#上面的points没有缺失值，换下一个数据price进行分析\n",
    "data3 = data.price\n",
    "data3min = data3.min()\n",
    "data3max = data3.max()\n",
    "data3mean = data3.mean()\n",
    "data3median = data3.median()\n",
    "#data2=np.array(data1)\n",
    "#data1quarter = np.percentile(data1, 50)\n",
    "data3quantile = [] \n",
    "data3quantile.append(data3.quantile(.25))  #四分位数\n",
    "data3quantile.append(data3.quantile(.50))\n",
    "data3quantile.append(data3.quantile(.75))\n",
    "data3isna = data3.shape[0] - data3.count()\n",
    "print(\"最小值、最大值、平均数、中位数、四分数、缺失值个数：\",data3min, data3max, data3mean, data3median,data3quantile,data3isna)"
   ]
  },
  {
   "cell_type": "code",
   "execution_count": 23,
   "metadata": {},
   "outputs": [
    {
     "name": "stderr",
     "output_type": "stream",
     "text": [
      "c:\\program files (x86)\\python37-32\\lib\\site-packages\\numpy\\lib\\histograms.py:824: RuntimeWarning: invalid value encountered in greater_equal\n",
      "  keep = (tmp_a >= first_edge)\n",
      "c:\\program files (x86)\\python37-32\\lib\\site-packages\\numpy\\lib\\histograms.py:825: RuntimeWarning: invalid value encountered in less_equal\n",
      "  keep &= (tmp_a <= last_edge)\n"
     ]
    },
    {
     "data": {
      "image/png": "[encoded data removed]",
      "text/plain": [
       "<Figure size 432x288 with 1 Axes>"
      ]
     },
     "metadata": {
      "needs_background": "light"
     },
     "output_type": "display_data"
    }
   ],
   "source": [
    "#绘制直方图\n",
    "import matplotlib.pyplot as plt\n",
    "fig = plt.figure()\n",
    "x = data3\n",
    "ax = fig.add_subplot(111)\n",
    "numBins = 1000  #箱子个数\n",
    "ax.hist(x,numBins,color='blue',alpha=0.8,rwidth=0.9)\n",
    "plt.title(u'price of wine')\n",
    "plt.show()"
   ]
  },
  {
   "cell_type": "code",
   "execution_count": 7,
   "metadata": {},
   "outputs": [
    {
     "data": {
      "image/png": "[encoded data removed]",
      "text/plain": [
       "<Figure size 432x288 with 1 Axes>"
      ]
     },
     "metadata": {
      "needs_background": "light"
     },
     "output_type": "display_data"
    }
   ],
   "source": [
    "#绘制直方图\n",
    "import matplotlib.pyplot as plt\n",
    "fig = plt.figure()\n",
    "x = data2\n",
    "ax = fig.add_subplot(111)\n",
    "numBins = 10  #箱子个数\n",
    "ax.hist(x,numBins,color='blue',alpha=0.8,rwidth=0.9)\n",
    "plt.title(u'points of wine')\n",
    "plt.show()"
   ]
  },
  {
   "cell_type": "code",
   "execution_count": 8,
   "metadata": {},
   "outputs": [
    {
     "data": {
      "text/plain": [
       "[<matplotlib.lines.Line2D at 0x146aa5d0>]"
      ]
     },
     "execution_count": 8,
     "metadata": {},
     "output_type": "execute_result"
    },
    {
     "data": {
      "image/png": "[encoded data removed]",
      "text/plain": [
       "<Figure size 432x288 with 1 Axes>"
      ]
     },
     "metadata": {
      "needs_background": "light"
     },
     "output_type": "display_data"
    }
   ],
   "source": [
    "#绘制QQ图\n",
    "from scipy import stats\n",
    "x = np.arange(-5,5,0.1)\n",
    "y = stats.norm.cdf(x,0,1)\n",
    "plt.plot(x,y)"
   ]
  },
  {
   "cell_type": "code",
   "execution_count": 9,
   "metadata": {},
   "outputs": [
    {
     "data": {
      "text/plain": [
       "[<matplotlib.lines.Line2D at 0x10342ff0>]"
      ]
     },
     "execution_count": 9,
     "metadata": {},
     "output_type": "execute_result"
    },
    {
     "data": {
      "image/png": "[encoded data removed]",
      "text/plain": [
       "<Figure size 432x288 with 1 Axes>"
      ]
     },
     "metadata": {
      "needs_background": "light"
     },
     "output_type": "display_data"
    }
   ],
   "source": [
    "data3_1= np.sort(data3)\n",
    "yvals = np.arange(len(data3_1))/float(len(data3_1))\n",
    "plt.plot(data3_1,yvals)"
   ]
  },
  {
   "cell_type": "code",
   "execution_count": 10,
   "metadata": {},
   "outputs": [
    {
     "data": {
      "text/plain": [
       "[<matplotlib.lines.Line2D at 0x14833d90>]"
      ]
     },
     "execution_count": 10,
     "metadata": {},
     "output_type": "execute_result"
    },
    {
     "data": {
      "image/png": "[encoded data removed]",
      "text/plain": [
       "<Figure size 432x288 with 1 Axes>"
      ]
     },
     "metadata": {
      "needs_background": "light"
     },
     "output_type": "display_data"
    }
   ],
   "source": [
    "data2_1= np.sort(data2)\n",
    "yvals = np.arange(len(data2_1))/float(len(data2_1))\n",
    "plt.plot(data2_1,yvals)"
   ]
  },
  {
   "cell_type": "code",
   "execution_count": 11,
   "metadata": {},
   "outputs": [
    {
     "data": {
      "text/plain": [
       "<matplotlib.collections.PathCollection at 0x14893e30>"
      ]
     },
     "execution_count": 11,
     "metadata": {},
     "output_type": "execute_result"
    },
    {
     "data": {
      "image/png": "[encoded data removed]",
      "text/plain": [
       "<Figure size 432x288 with 1 Axes>"
      ]
     },
     "metadata": {
      "needs_background": "light"
     },
     "output_type": "display_data"
    }
   ],
   "source": [
    "#绘制QQ图\n",
    "x_label = stats.norm.ppf(yvals)\n",
    "plt.scatter(x_label,data3_1)"
   ]
  },
  {
   "cell_type": "code",
   "execution_count": 12,
   "metadata": {},
   "outputs": [
    {
     "data": {
      "text/plain": [
       "<matplotlib.collections.PathCollection at 0x14b5def0>"
      ]
     },
     "execution_count": 12,
     "metadata": {},
     "output_type": "execute_result"
    },
    {
     "data": {
      "image/png": "[encoded data removed]",
      "text/plain": [
       "<Figure size 432x288 with 1 Axes>"
      ]
     },
     "metadata": {
      "needs_background": "light"
     },
     "output_type": "display_data"
    }
   ],
   "source": [
    "#绘制QQ图\n",
    "x_label = stats.norm.ppf(yvals)\n",
    "plt.scatter(x_label,data2_1)"
   ]
  },
  {
   "cell_type": "markdown",
   "metadata": {},
   "source": [
    "通过直方图和QQ图可以看出points符合正态分布，而price不符合正态分布"
   ]
  },
  {
   "cell_type": "code",
   "execution_count": 13,
   "metadata": {},
   "outputs": [
    {
     "data": {
      "image/png": "[encoded data removed]",
      "text/plain": [
       "<Figure size 432x288 with 1 Axes>"
      ]
     },
     "metadata": {
      "needs_background": "light"
     },
     "output_type": "display_data"
    }
   ],
   "source": [
    "#绘制盒图(箱体图)\n",
    "data3_2 = pd.DataFrame(data3)\n",
    "data3_2.plot.box(title=\"distance\")\n",
    "#data3.boxplot()\n",
    "plt.grid(linestyle=\"--\", alpha=0.3)\n",
    "plt.show()"
   ]
  },
  {
   "cell_type": "code",
   "execution_count": 14,
   "metadata": {},
   "outputs": [
    {
     "data": {
      "image/png": "[encoded data removed]",
      "text/plain": [
       "<Figure size 432x288 with 1 Axes>"
      ]
     },
     "metadata": {
      "needs_background": "light"
     },
     "output_type": "display_data"
    }
   ],
   "source": [
    "#绘制盒图(箱体图)\n",
    "data2_2 = pd.DataFrame(data2)\n",
    "data2_2.plot.box(title=\"distance\")\n",
    "#data3.boxplot()\n",
    "plt.grid(linestyle=\"--\", alpha=0.3)\n",
    "plt.show()"
   ]
  },
  {
   "cell_type": "code",
   "execution_count": 15,
   "metadata": {},
   "outputs": [
    {
     "name": "stdout",
     "output_type": "stream",
     "text": [
      "数据总数 150930 非空值总数 137235 空值总数 13695\n"
     ]
    }
   ],
   "source": [
    "#缺失值处理\n",
    "numa3_3 = data3.shape[0]\n",
    "numnotna = data3.count()\n",
    "numisna = data3.shape[0] - data3.count()\n",
    "print(\"数据总数\",numa3_3,\"非空值总数\",numnotna,\"空值总数\",numisna)"
   ]
  },
  {
   "cell_type": "code",
   "execution_count": 16,
   "metadata": {},
   "outputs": [
    {
     "name": "stdout",
     "output_type": "stream",
     "text": [
      "缺失值去除后数据总数 137235\n"
     ]
    }
   ],
   "source": [
    "#01将缺失值剔除\n",
    "data3_4 = data3.dropna()\n",
    "print(\"缺失值去除后数据总数\",data3_4.shape[0])"
   ]
  },
  {
   "cell_type": "code",
   "execution_count": 17,
   "metadata": {},
   "outputs": [
    {
     "name": "stdout",
     "output_type": "stream",
     "text": [
      "众数为 20.0\n"
     ]
    }
   ],
   "source": [
    "#用最高频率值来填补缺失值\n",
    "from scipy import stats\n",
    "data3_more=stats.mode(data3)[0][0]  #众数\n",
    "print(\"众数为\",data3_more)"
   ]
  },
  {
   "cell_type": "code",
   "execution_count": 18,
   "metadata": {},
   "outputs": [
    {
     "name": "stdout",
     "output_type": "stream",
     "text": [
      "填充前第32位是 nan\n",
      "填充后第32位是 20.0\n"
     ]
    }
   ],
   "source": [
    "print(\"填充前第32位是\",data3[32])\n",
    "data3_5= data3.fillna(data3_more)\n",
    "print(\"填充后第32位是\",data3_5[32])"
   ]
  },
  {
   "cell_type": "markdown",
   "metadata": {},
   "source": [
    "points无缺失值，不用进行缺失值处理，price缺失值处理对整体效果影响不大.\n",
    "price数据分布严重失调，导致上面的price数据展示不够形象，下面具体展示price的可视化"
   ]
  },
  {
   "cell_type": "code",
   "execution_count": 19,
   "metadata": {},
   "outputs": [
    {
     "data": {
      "text/plain": [
       "34920     2300.0\n",
       "13318     2013.0\n",
       "34922     1900.0\n",
       "51886     1400.0\n",
       "83536     1400.0\n",
       "26296     1400.0\n",
       "34939     1300.0\n",
       "34942     1200.0\n",
       "34927     1100.0\n",
       "10651     1100.0\n",
       "35531     1000.0\n",
       "10886      980.0\n",
       "90744      900.0\n",
       "28625      850.0\n",
       "127773     850.0\n",
       "10505      850.0\n",
       "2145       848.0\n",
       "119524     800.0\n",
       "24154      800.0\n",
       "32453      800.0\n",
       "Name: price, dtype: float64"
      ]
     },
     "execution_count": 19,
     "metadata": {},
     "output_type": "execute_result"
    }
   ],
   "source": [
    "data3_5 = data3.sort_values(ascending=False)\n",
    "data3_5.head(20)"
   ]
  },
  {
   "cell_type": "code",
   "execution_count": 20,
   "metadata": {},
   "outputs": [
    {
     "data": {
      "text/plain": [
       "{'0~100': 133770,\n",
       " '100~200': 2690,\n",
       " '200~300': 467,\n",
       " '300~400': 154,\n",
       " '400~500': 81,\n",
       " '500~1000': 63,\n",
       " '1000~3000': 10}"
      ]
     },
     "execution_count": 20,
     "metadata": {},
     "output_type": "execute_result"
    }
   ],
   "source": [
    "sections = [0,100,200,300,400,500,1000,3000]\n",
    "group_names = ['0~100','100~200','200~300','300~400','400~500','500~1000','1000~3000']\n",
    "cuts = pd.cut(data3,sections,labels=group_names)\n",
    "counts = pd.value_counts(cuts)\n",
    "dict(counts)"
   ]
  },
  {
   "cell_type": "code",
   "execution_count": 21,
   "metadata": {},
   "outputs": [
    {
     "data": {
      "text/plain": [
       "{'0~20': 58815,\n",
       " '20~40': 47103,\n",
       " '40~80': 24798,\n",
       " '80~100': 3054,\n",
       " '100~200': 2690,\n",
       " '200~300': 467,\n",
       " '300~400': 154,\n",
       " '400~500': 81,\n",
       " '500~1000': 63,\n",
       " '1000~3000': 10}"
      ]
     },
     "execution_count": 21,
     "metadata": {},
     "output_type": "execute_result"
    }
   ],
   "source": [
    "sections = [0,20,40,80,100,200,300,400,500,1000,3000]\n",
    "group_names = ['0~20','20~40','40~80','80~100','100~200','200~300','300~400','400~500','500~1000','1000~3000']\n",
    "cuts = pd.cut(data3,sections,labels=group_names)\n",
    "counts = pd.value_counts(cuts)\n",
    "dict(counts)"
   ]
  },
  {
   "cell_type": "code",
   "execution_count": 22,
   "metadata": {},
   "outputs": [
    {
     "data": {
      "text/plain": [
       "<matplotlib.axes._subplots.AxesSubplot at 0x13597090>"
      ]
     },
     "execution_count": 22,
     "metadata": {},
     "output_type": "execute_result"
    },
    {
     "data": {
      "image/png": "[encoded data removed]",
      "text/plain": [
       "<Figure size 432x288 with 1 Axes>"
      ]
     },
     "metadata": {
      "needs_background": "light"
     },
     "output_type": "display_data"
    }
   ],
   "source": [
    "cuts.value_counts().plot(kind='bar')"
   ]
  }
 ],
 "metadata": {
  "kernelspec": {
   "display_name": "Python 3",
   "language": "python",
   "name": "python3"
  },
  "language_info": {
   "codemirror_mode": {
    "name": "ipython",
    "version": 3
   },
   "file_extension": ".py",
   "mimetype": "text/x-python",
   "name": "python",
   "nbconvert_exporter": "python",
   "pygments_lexer": "ipython3",
   "version": "3.7.2"
  }
 },
 "nbformat": 4,
 "nbformat_minor": 2
}
