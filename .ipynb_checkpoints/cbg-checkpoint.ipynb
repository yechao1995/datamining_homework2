{
 "cells": [
  {
   "cell_type": "markdown",
   "metadata": {},
   "source": [
    "数据集名称：Consumer & Visitor Insights For Neighborhoods\n",
    "数据集地址：https://www.kaggle.com/safegraph/visit-patterns-by-census-block-group\n",
    "数据集描述：人口普查分组（CBG）是美国人口普查局报告的数据中最精细的一级，覆盖了约1500户家庭。Safegraph通过分析大量GPS移动数据得出了CBG的流行程度或到CBG的距离。我们还将这些GPS数据与我们的500万个美国感兴趣点建筑足迹数据集（Safegraph Places）相结合，以确定对商店或餐馆等地方的访问。我们使用这些访问计数来获得消费者的见解，例如在CBG中访问的顶级品牌（如麦当劳）。"
   ]
  },
  {
   "cell_type": "code",
   "execution_count": 1,
   "metadata": {},
   "outputs": [
    {
     "name": "stdout",
     "output_type": "stream",
     "text": [
      "<class 'pandas.core.frame.DataFrame'>\n",
      "RangeIndex: 220735 entries, 0 to 220734\n",
      "Data columns (total 13 columns):\n",
      "census_block_group          220734 non-null object\n",
      "date_range_start            220735 non-null int32\n",
      "date_range_end              220735 non-null int32\n",
      "raw_visit_count             220629 non-null float64\n",
      "raw_visitor_count           220629 non-null float64\n",
      "visitor_home_cbgs           220735 non-null object\n",
      "visitor_work_cbgs           220735 non-null object\n",
      "distance_from_home          220518 non-null float64\n",
      "related_same_day_brand      220735 non-null object\n",
      "related_same_month_brand    220735 non-null object\n",
      "top_brands                  220735 non-null object\n",
      "popularity_by_hour          220735 non-null object\n",
      "popularity_by_day           220735 non-null object\n",
      "dtypes: float64(3), int32(2), object(8)\n",
      "memory usage: 13.5+ MB\n"
     ]
    }
   ],
   "source": [
    "# -*- coding: utf-8 -*-\n",
    "import numpy as np\n",
    "import pandas as pd\n",
    "dtype = {'census_block_group': 'object', 'date_range_start': 'int', 'date_range_end':'int',\n",
    "       'raw_visit_count':'float', 'raw_visitor_count':'float', 'visitor_home_cbgs':'object',\n",
    "       'visitor_work_cbgs':'object', 'distance_from_home':'float', 'related_same_day_brand':'object',\n",
    "       'related_same_month_brand':'object', 'top_brands':'object', 'popularity_by_hour':'object',\n",
    "       'popularity_by_day':'object'}\n",
    "data = pd.read_csv('./cbg_patterns.csv', dtype=dtype)\n",
    "data.info()\n",
    "#数据简介"
   ]
  },
  {
   "cell_type": "code",
   "execution_count": 2,
   "metadata": {},
   "outputs": [
    {
     "data": {
      "text/html": [
       "<div>\n",
       "<style scoped>\n",
       "    .dataframe tbody tr th:only-of-type {\n",
       "        vertical-align: middle;\n",
       "    }\n",
       "\n",
       "    .dataframe tbody tr th {\n",
       "        vertical-align: top;\n",
       "    }\n",
       "\n",
       "    .dataframe thead th {\n",
       "        text-align: right;\n",
       "    }\n",
       "</style>\n",
       "<table border=\"1\" class=\"dataframe\">\n",
       "  <thead>\n",
       "    <tr style=\"text-align: right;\">\n",
       "      <th></th>\n",
       "      <th>census_block_group</th>\n",
       "      <th>date_range_start</th>\n",
       "      <th>date_range_end</th>\n",
       "      <th>raw_visit_count</th>\n",
       "      <th>raw_visitor_count</th>\n",
       "      <th>visitor_home_cbgs</th>\n",
       "      <th>visitor_work_cbgs</th>\n",
       "      <th>distance_from_home</th>\n",
       "      <th>related_same_day_brand</th>\n",
       "      <th>related_same_month_brand</th>\n",
       "      <th>top_brands</th>\n",
       "      <th>popularity_by_hour</th>\n",
       "      <th>popularity_by_day</th>\n",
       "    </tr>\n",
       "  </thead>\n",
       "  <tbody>\n",
       "    <tr>\n",
       "      <th>0</th>\n",
       "      <td>010059508001</td>\n",
       "      <td>1538352000</td>\n",
       "      <td>1541030400</td>\n",
       "      <td>75122.0</td>\n",
       "      <td>18314.0</td>\n",
       "      <td>{\"010059501003\":127,\"010059509001\":111,\"010059...</td>\n",
       "      <td>{\"010059501003\":109,\"010810407002\":62,\"0108104...</td>\n",
       "      <td>194724.0</td>\n",
       "      <td>[\"Chick-fil-A\",\"mcdonalds\",\"Marathon Petroleum...</td>\n",
       "      <td>[\"walmart\",\"mcdonalds\",\"Dollar General\",\"Chick...</td>\n",
       "      <td>[\"CrossFit\",\"Health Mart\",\"Coldwell Banker\"]</td>\n",
       "      <td>[2617,2457,2403,2519,2646,3007,3886,7566,5508,...</td>\n",
       "      <td>{\"Monday\":12000,\"Tuesday\":12224,\"Wednesday\":10...</td>\n",
       "    </tr>\n",
       "    <tr>\n",
       "      <th>1</th>\n",
       "      <td>010090506011</td>\n",
       "      <td>1538352000</td>\n",
       "      <td>1541030400</td>\n",
       "      <td>95649.0</td>\n",
       "      <td>38942.0</td>\n",
       "      <td>{\"010730113021\":210,\"010090506022\":205,\"010090...</td>\n",
       "      <td>{\"010890111001\":271,\"010730045001\":269,\"010439...</td>\n",
       "      <td>120587.0</td>\n",
       "      <td>[\"Shell Oil\",\"mcdonalds\",\"Chick-fil-A\",\"Chevron\"]</td>\n",
       "      <td>[\"walmart\",\"mcdonalds\",\"Shell Oil\",\"Chick-fil-...</td>\n",
       "      <td>[]</td>\n",
       "      <td>[6556,6325,6222,6355,6586,7350,8568,8099,7378,...</td>\n",
       "      <td>{\"Monday\":12125,\"Tuesday\":12984,\"Wednesday\":12...</td>\n",
       "    </tr>\n",
       "    <tr>\n",
       "      <th>2</th>\n",
       "      <td>010479572002</td>\n",
       "      <td>1538352000</td>\n",
       "      <td>1541030400</td>\n",
       "      <td>14009.0</td>\n",
       "      <td>3039.0</td>\n",
       "      <td>{\"010479567011\":67,\"010479567021\":60}</td>\n",
       "      <td>{\"010479567021\":52}</td>\n",
       "      <td>67774.0</td>\n",
       "      <td>[\"Dollar General\"]</td>\n",
       "      <td>[\"walmart\",\"Dollar General\",\"mcdonalds\",\"Chevr...</td>\n",
       "      <td>[\"Dollar General\"]</td>\n",
       "      <td>[807,790,796,786,851,951,1134,1797,1355,1241,1...</td>\n",
       "      <td>{\"Monday\":2314,\"Tuesday\":2340,\"Wednesday\":2195...</td>\n",
       "    </tr>\n",
       "    <tr>\n",
       "      <th>3</th>\n",
       "      <td>010690404001</td>\n",
       "      <td>1538352000</td>\n",
       "      <td>1541030400</td>\n",
       "      <td>128169.0</td>\n",
       "      <td>25418.0</td>\n",
       "      <td>{\"010690402013\":370,\"010690402011\":322,\"010690...</td>\n",
       "      <td>{\"010690402024\":313,\"010690415004\":203,\"010450...</td>\n",
       "      <td>42684.0</td>\n",
       "      <td>[\"Chick-fil-A\",\"Sam's Club\",\"Dollar General\",\"...</td>\n",
       "      <td>[\"walmart\",\"Dollar General\",\"mcdonalds\",\"Marat...</td>\n",
       "      <td>[\"Chick-fil-A\",\"Sam's Club\",\"Olive Garden\",\"mc...</td>\n",
       "      <td>[2121,1828,1784,1704,1861,2373,3730,7497,7093,...</td>\n",
       "      <td>{\"Monday\":21141,\"Tuesday\":21143,\"Wednesday\":17...</td>\n",
       "    </tr>\n",
       "    <tr>\n",
       "      <th>4</th>\n",
       "      <td>010730112101</td>\n",
       "      <td>1538352000</td>\n",
       "      <td>1541030400</td>\n",
       "      <td>51453.0</td>\n",
       "      <td>9499.0</td>\n",
       "      <td>{\"010090507001\":183,\"010730113021\":167,\"010730...</td>\n",
       "      <td>{\"010730045001\":140,\"010730027001\":123,\"010730...</td>\n",
       "      <td>18878.0</td>\n",
       "      <td>[\"Chevron\",\"Daylight Donuts\",\"walmart\"]</td>\n",
       "      <td>[\"walmart\",\"Chevron\",\"Dollar General\",\"Shell O...</td>\n",
       "      <td>[\"Chevron\",\"CrossFit\"]</td>\n",
       "      <td>[3804,3716,3686,3672,3735,4115,4855,5946,4526,...</td>\n",
       "      <td>{\"Monday\":8402,\"Tuesday\":8414,\"Wednesday\":8550...</td>\n",
       "    </tr>\n",
       "  </tbody>\n",
       "</table>\n",
       "</div>"
      ],
      "text/plain": [
       "  census_block_group  date_range_start  date_range_end  raw_visit_count  \\\n",
       "0       010059508001        1538352000      1541030400          75122.0   \n",
       "1       010090506011        1538352000      1541030400          95649.0   \n",
       "2       010479572002        1538352000      1541030400          14009.0   \n",
       "3       010690404001        1538352000      1541030400         128169.0   \n",
       "4       010730112101        1538352000      1541030400          51453.0   \n",
       "\n",
       "   raw_visitor_count                                  visitor_home_cbgs  \\\n",
       "0            18314.0  {\"010059501003\":127,\"010059509001\":111,\"010059...   \n",
       "1            38942.0  {\"010730113021\":210,\"010090506022\":205,\"010090...   \n",
       "2             3039.0              {\"010479567011\":67,\"010479567021\":60}   \n",
       "3            25418.0  {\"010690402013\":370,\"010690402011\":322,\"010690...   \n",
       "4             9499.0  {\"010090507001\":183,\"010730113021\":167,\"010730...   \n",
       "\n",
       "                                   visitor_work_cbgs  distance_from_home  \\\n",
       "0  {\"010059501003\":109,\"010810407002\":62,\"0108104...            194724.0   \n",
       "1  {\"010890111001\":271,\"010730045001\":269,\"010439...            120587.0   \n",
       "2                                {\"010479567021\":52}             67774.0   \n",
       "3  {\"010690402024\":313,\"010690415004\":203,\"010450...             42684.0   \n",
       "4  {\"010730045001\":140,\"010730027001\":123,\"010730...             18878.0   \n",
       "\n",
       "                              related_same_day_brand  \\\n",
       "0  [\"Chick-fil-A\",\"mcdonalds\",\"Marathon Petroleum...   \n",
       "1  [\"Shell Oil\",\"mcdonalds\",\"Chick-fil-A\",\"Chevron\"]   \n",
       "2                                 [\"Dollar General\"]   \n",
       "3  [\"Chick-fil-A\",\"Sam's Club\",\"Dollar General\",\"...   \n",
       "4            [\"Chevron\",\"Daylight Donuts\",\"walmart\"]   \n",
       "\n",
       "                            related_same_month_brand  \\\n",
       "0  [\"walmart\",\"mcdonalds\",\"Dollar General\",\"Chick...   \n",
       "1  [\"walmart\",\"mcdonalds\",\"Shell Oil\",\"Chick-fil-...   \n",
       "2  [\"walmart\",\"Dollar General\",\"mcdonalds\",\"Chevr...   \n",
       "3  [\"walmart\",\"Dollar General\",\"mcdonalds\",\"Marat...   \n",
       "4  [\"walmart\",\"Chevron\",\"Dollar General\",\"Shell O...   \n",
       "\n",
       "                                          top_brands  \\\n",
       "0       [\"CrossFit\",\"Health Mart\",\"Coldwell Banker\"]   \n",
       "1                                                 []   \n",
       "2                                 [\"Dollar General\"]   \n",
       "3  [\"Chick-fil-A\",\"Sam's Club\",\"Olive Garden\",\"mc...   \n",
       "4                             [\"Chevron\",\"CrossFit\"]   \n",
       "\n",
       "                                  popularity_by_hour  \\\n",
       "0  [2617,2457,2403,2519,2646,3007,3886,7566,5508,...   \n",
       "1  [6556,6325,6222,6355,6586,7350,8568,8099,7378,...   \n",
       "2  [807,790,796,786,851,951,1134,1797,1355,1241,1...   \n",
       "3  [2121,1828,1784,1704,1861,2373,3730,7497,7093,...   \n",
       "4  [3804,3716,3686,3672,3735,4115,4855,5946,4526,...   \n",
       "\n",
       "                                   popularity_by_day  \n",
       "0  {\"Monday\":12000,\"Tuesday\":12224,\"Wednesday\":10...  \n",
       "1  {\"Monday\":12125,\"Tuesday\":12984,\"Wednesday\":12...  \n",
       "2  {\"Monday\":2314,\"Tuesday\":2340,\"Wednesday\":2195...  \n",
       "3  {\"Monday\":21141,\"Tuesday\":21143,\"Wednesday\":17...  \n",
       "4  {\"Monday\":8402,\"Tuesday\":8414,\"Wednesday\":8550...  "
      ]
     },
     "execution_count": 2,
     "metadata": {},
     "output_type": "execute_result"
    }
   ],
   "source": [
    "data.head()\n",
    "#整体数据展示"
   ]
  },
  {
   "cell_type": "code",
   "execution_count": 3,
   "metadata": {},
   "outputs": [
    {
     "name": "stdout",
     "output_type": "stream",
     "text": [
      "<class 'pandas.core.frame.DataFrame'>\n",
      "Int64Index: 220734 entries, 0 to 220733\n",
      "Data columns (total 13 columns):\n",
      "census_block_group          220734 non-null object\n",
      "date_range_start            220734 non-null int32\n",
      "date_range_end              220734 non-null int32\n",
      "raw_visit_count             220629 non-null float64\n",
      "raw_visitor_count           220629 non-null float64\n",
      "visitor_home_cbgs           220734 non-null object\n",
      "visitor_work_cbgs           220734 non-null object\n",
      "distance_from_home          220518 non-null float64\n",
      "related_same_day_brand      220734 non-null object\n",
      "related_same_month_brand    220734 non-null object\n",
      "top_brands                  220734 non-null object\n",
      "popularity_by_hour          220734 non-null object\n",
      "popularity_by_day           220734 non-null object\n",
      "dtypes: float64(3), int32(2), object(8)\n",
      "memory usage: 15.2+ MB\n"
     ]
    }
   ],
   "source": [
    "#去掉（census_block_group列最后一行为空）na行\n",
    "data = data.dropna(subset=['census_block_group'])\n",
    "data.info()"
   ]
  },
  {
   "cell_type": "code",
   "execution_count": 4,
   "metadata": {},
   "outputs": [
    {
     "data": {
      "text/plain": [
       "0    194724.0\n",
       "1    120587.0\n",
       "2     67774.0\n",
       "3     42684.0\n",
       "4     18878.0\n",
       "Name: distance_from_home, dtype: float64"
      ]
     },
     "execution_count": 4,
     "metadata": {},
     "output_type": "execute_result"
    }
   ],
   "source": [
    "#数值列展示\n",
    "data1=data.distance_from_home\n",
    "data1.head()"
   ]
  },
  {
   "cell_type": "code",
   "execution_count": 5,
   "metadata": {},
   "outputs": [
    {
     "name": "stdout",
     "output_type": "stream",
     "text": [
      "最小值、最大值、平均数、中位数、四分数、缺失值个数： 706.0 6297845.0 35112.80346275587 14614.0 [8584.0, 14614.0, 31397.75] 216\n"
     ]
    }
   ],
   "source": [
    "#数值属性，给出最大、最小、均值、中位数、四分位数及缺失值的个数。\n",
    "#pandas 中 count() 函数为不为空数据的个数，那么将shape与count做差就得到缺失个数，缺失率。\n",
    "data1min = data1.min()\n",
    "data1max = data1.max()\n",
    "data1mean = data1.mean()\n",
    "data1median = data1.median()\n",
    "#data2=np.array(data1)\n",
    "#data1quarter = np.percentile(data1, 50)\n",
    "data1quantile = [] \n",
    "data1quantile.append(data1.quantile(.25))  #四分位数\n",
    "data1quantile.append(data1.quantile(.50))\n",
    "data1quantile.append(data1.quantile(.75))\n",
    "data1isna = data1.shape[0] - data1.count()\n",
    "print(\"最小值、最大值、平均数、中位数、四分数、缺失值个数：\",data1min, data1max, data1mean, data1median,data1quantile,data1isna)"
   ]
  },
  {
   "cell_type": "code",
   "execution_count": 6,
   "metadata": {},
   "outputs": [
    {
     "name": "stderr",
     "output_type": "stream",
     "text": [
      "c:\\program files (x86)\\python37-32\\lib\\site-packages\\numpy\\lib\\histograms.py:824: RuntimeWarning: invalid value encountered in greater_equal\n",
      "  keep = (tmp_a >= first_edge)\n",
      "c:\\program files (x86)\\python37-32\\lib\\site-packages\\numpy\\lib\\histograms.py:825: RuntimeWarning: invalid value encountered in less_equal\n",
      "  keep &= (tmp_a <= last_edge)\n"
     ]
    },
    {
     "data": {
      "text/plain": [
       "<Figure size 640x480 with 1 Axes>"
      ]
     },
     "metadata": {},
     "output_type": "display_data"
    }
   ],
   "source": [
    "#绘制直方图\n",
    "import matplotlib.pyplot as plt\n",
    "fig = plt.figure()\n",
    "x = data1\n",
    "ax = fig.add_subplot(111)\n",
    "numBins = 100  #箱子个数\n",
    "ax.hist(x,numBins,color='blue',alpha=0.8,rwidth=0.9)\n",
    "plt.title(u'distance')\n",
    "plt.show()"
   ]
  },
  {
   "cell_type": "code",
   "execution_count": 7,
   "metadata": {},
   "outputs": [
    {
     "data": {
      "text/plain": [
       "[<matplotlib.lines.Line2D at 0x1b3d4b30>]"
      ]
     },
     "execution_count": 7,
     "metadata": {},
     "output_type": "execute_result"
    },
    {
     "data": {
      "image/png": "[encoded data removed]",
      "text/plain": [
       "<Figure size 432x288 with 1 Axes>"
      ]
     },
     "metadata": {
      "needs_background": "light"
     },
     "output_type": "display_data"
    }
   ],
   "source": [
    "#绘制QQ图\n",
    "from scipy import stats\n",
    "x = np.arange(-5,5,0.1)\n",
    "y = stats.norm.cdf(x,0,1)\n",
    "plt.plot(x,y)"
   ]
  },
  {
   "cell_type": "code",
   "execution_count": 8,
   "metadata": {},
   "outputs": [
    {
     "data": {
      "text/plain": [
       "[<matplotlib.lines.Line2D at 0x1b4333b0>]"
      ]
     },
     "execution_count": 8,
     "metadata": {},
     "output_type": "execute_result"
    },
    {
     "data": {
      "image/png": "[encoded data removed]",
      "text/plain": [
       "<Figure size 432x288 with 1 Axes>"
      ]
     },
     "metadata": {
      "needs_background": "light"
     },
     "output_type": "display_data"
    }
   ],
   "source": [
    "data2 = np.sort(data1)\n",
    "yvals = np.arange(len(data2))/float(len(data2))\n",
    "plt.plot(data2,yvals)"
   ]
  },
  {
   "cell_type": "code",
   "execution_count": 9,
   "metadata": {},
   "outputs": [
    {
     "data": {
      "text/plain": [
       "<matplotlib.collections.PathCollection at 0x1b637090>"
      ]
     },
     "execution_count": 9,
     "metadata": {},
     "output_type": "execute_result"
    },
    {
     "data": {
      "image/png": "[encoded data removed]",
      "text/plain": [
       "<Figure size 432x288 with 1 Axes>"
      ]
     },
     "metadata": {
      "needs_background": "light"
     },
     "output_type": "display_data"
    }
   ],
   "source": [
    "#绘制QQ图\n",
    "x_label = stats.norm.ppf(yvals)\n",
    "plt.scatter(x_label,data2)\n",
    "#发现该段数据不符合正态分布，且数据主要在前端分布"
   ]
  },
  {
   "cell_type": "code",
   "execution_count": 10,
   "metadata": {},
   "outputs": [
    {
     "data": {
      "image/png": "[encoded data removed]",
      "text/plain": [
       "<Figure size 432x288 with 1 Axes>"
      ]
     },
     "metadata": {
      "needs_background": "light"
     },
     "output_type": "display_data"
    }
   ],
   "source": [
    "#绘制盒图(箱体图)\n",
    "data3 = pd.DataFrame(data1)\n",
    "data3.plot.box(title=\"distance\")\n",
    "#data3.boxplot()\n",
    "plt.grid(linestyle=\"--\", alpha=0.3)\n",
    "plt.show()"
   ]
  },
  {
   "cell_type": "code",
   "execution_count": 11,
   "metadata": {},
   "outputs": [
    {
     "name": "stdout",
     "output_type": "stream",
     "text": [
      "数据总数 220734 非空值总数 220518 空值总数 216\n"
     ]
    }
   ],
   "source": [
    "#缺失值处理\n",
    "numall = data1.shape[0]\n",
    "numnotna = data1.count()\n",
    "numisna = data1.shape[0] - data1.count()\n",
    "print(\"数据总数\",numall,\"非空值总数\",numnotna,\"空值总数\",numisna)"
   ]
  },
  {
   "cell_type": "code",
   "execution_count": 12,
   "metadata": {},
   "outputs": [
    {
     "name": "stdout",
     "output_type": "stream",
     "text": [
      "缺失值去除后数据总数 220518\n"
     ]
    }
   ],
   "source": [
    "#01将缺失值剔除\n",
    "data101 = data1.dropna()\n",
    "print(\"缺失值去除后数据总数\",data101.shape[0])"
   ]
  },
  {
   "cell_type": "code",
   "execution_count": 13,
   "metadata": {},
   "outputs": [
    {
     "name": "stdout",
     "output_type": "stream",
     "text": [
      "众数为 8345.0\n"
     ]
    }
   ],
   "source": [
    "#用最高频率值来填补缺失值\n",
    "from scipy import stats\n",
    "data1_more=stats.mode(data1)[0][0]  #众数\n",
    "print(\"众数为\",data1_more)"
   ]
  },
  {
   "cell_type": "code",
   "execution_count": 14,
   "metadata": {},
   "outputs": [
    {
     "name": "stdout",
     "output_type": "stream",
     "text": [
      "填充前第220723位是 nan\n",
      "填充后第220723位是 8345.0\n"
     ]
    }
   ],
   "source": [
    "print(\"填充前第220723位是\",data1[220723])\n",
    "data102 = data1.fillna(data1_more)\n",
    "print(\"填充后第220723位是\",data102[220723])"
   ]
  },
  {
   "cell_type": "markdown",
   "metadata": {},
   "source": [
    "该列数据distance_from_home总共有220734个数据，缺失值216个，对总体影响不大，所以缺失值处理前后的可视化图并无主要区别。另外在数据集中cbg.patterns.csv中并未发现有其它列数据与distance_from_home存在相关性。"
   ]
  }
 ],
 "metadata": {
  "kernelspec": {
   "display_name": "Python 3",
   "language": "python",
   "name": "python3"
  },
  "language_info": {
   "codemirror_mode": {
    "name": "ipython",
    "version": 3
   },
   "file_extension": ".py",
   "mimetype": "text/x-python",
   "name": "python",
   "nbconvert_exporter": "python",
   "pygments_lexer": "ipython3",
   "version": "3.7.2"
  }
 },
 "nbformat": 4,
 "nbformat_minor": 2
}
